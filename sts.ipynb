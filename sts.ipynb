{
 "cells": [
  {
   "cell_type": "code",
   "execution_count": 49,
   "metadata": {},
   "outputs": [],
   "source": [
    "import pandas as pd\n",
    "import numpy as np\n",
    "import re\n",
    "import nltk\n",
    "import string \n",
    "import preprocessor as p \n",
    "from nltk.corpus import stopwords\n",
    "from nltk.stem.porter import *\n",
    "from nltk.tokenize import word_tokenize\n",
    "import torch "
   ]
  },
  {
   "cell_type": "code",
   "execution_count": 55,
   "metadata": {},
   "outputs": [],
   "source": [
    "input_data = []\n",
    "\n",
    "with open('./sts-2017-en-es/En_Es_STS/STS.input.en-es.train.txt', 'r') as inFile:\n",
    "    input_data = inFile.readlines()\n",
    "\n",
    "X = []\n",
    "for data in input_data:\n",
    "    X.append(data.split('\\t')[:2])"
   ]
  },
  {
   "cell_type": "code",
   "execution_count": null,
   "metadata": {},
   "outputs": [],
   "source": [
    "class Data(to)"
   ]
  },
  {
   "cell_type": "code",
   "execution_count": 72,
   "metadata": {},
   "outputs": [],
   "source": [
    "def sentence_preprocessor(data):\n",
    "    cleaned_data = []\n",
    "    for x in data:\n",
    "        cleaned_x = p.clean(x).lower()\n",
    "        for c in string.punctuation:\n",
    "            if c in cleaned_x:\n",
    "                cleaned_x = cleaned_x.replace(c,'')\n",
    "        tokenized_x = word_tokenize(cleaned_x)\n",
    "        cleaned_data.append(tokenized_x)\n",
    "    \n",
    "    return cleaned_data\n",
    "\n",
    "def vocab_maker(data):\n",
    "    vocab = {}\n",
    "    index=0\n",
    "    for sentence in data:\n",
    "        for word in sentence:\n",
    "            if word in vocab:\n",
    "                continue\n",
    "            else:\n",
    "                vocab[word] = index\n",
    "                index+=1\n",
    "    \n",
    "    return vocab\n",
    "\n",
    "def vectorizer(data, vocab):\n",
    "    x = np.zeros((len(data),len(vocab.keys())))\n",
    "    for index in range(len(data)):\n",
    "        sentence = data[index]\n",
    "        for word in sentence:\n",
    "            x[index][vocab[word]] += 1\n",
    "    return x"
   ]
  },
  {
   "cell_type": "code",
   "execution_count": 64,
   "metadata": {},
   "outputs": [],
   "source": [
    "eng_data, esp_data = tuple(zip(*X))\n",
    "\n",
    "cleaned_eng = sentence_preprocessor(eng_data)\n",
    "cleaned_esp = sentence_preprocessor(esp_data)\n"
   ]
  },
  {
   "cell_type": "code",
   "execution_count": 67,
   "metadata": {},
   "outputs": [],
   "source": [
    "# make vocab\n",
    "eng_vocab = vocab_maker(cleaned_eng)\n",
    "esp_vocab = vocab_maker(cleaned_esp)\n"
   ]
  },
  {
   "cell_type": "code",
   "execution_count": 76,
   "metadata": {},
   "outputs": [],
   "source": [
    "# generating embeddings\n",
    "eng_vectors = vectorizer(cleaned_eng, eng_vocab)\n",
    "esp_vectors = vectorizer(cleaned_esp, esp_vocab)"
   ]
  },
  {
   "cell_type": "code",
   "execution_count": 80,
   "metadata": {},
   "outputs": [
    {
     "data": {
      "text/plain": [
       "(1000, 4863)"
      ]
     },
     "execution_count": 80,
     "metadata": {},
     "output_type": "execute_result"
    }
   ],
   "source": [
    "eng_vectors.shape\n",
    "esp_vectors.shape"
   ]
  },
  {
   "cell_type": "code",
   "execution_count": null,
   "metadata": {},
   "outputs": [],
   "source": []
  },
  {
   "cell_type": "code",
   "execution_count": null,
   "metadata": {},
   "outputs": [],
   "source": []
  }
 ],
 "metadata": {
  "interpreter": {
   "hash": "f54ec556731191ae34ffecbd12704bb8f2e6a5cabce98c16cdcccd50acdfe5bc"
  },
  "kernelspec": {
   "display_name": "Python 3.9.7 ('base')",
   "language": "python",
   "name": "python3"
  },
  "language_info": {
   "codemirror_mode": {
    "name": "ipython",
    "version": 3
   },
   "file_extension": ".py",
   "mimetype": "text/x-python",
   "name": "python",
   "nbconvert_exporter": "python",
   "pygments_lexer": "ipython3",
   "version": "3.9.7"
  },
  "orig_nbformat": 4
 },
 "nbformat": 4,
 "nbformat_minor": 2
}
