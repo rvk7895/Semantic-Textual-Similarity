{
 "cells": [
  {
   "cell_type": "code",
   "execution_count": 1,
   "metadata": {},
   "outputs": [],
   "source": [
    "import numpy as np\n",
    "import nltk\n",
    "import string\n",
    "from nltk.corpus import stopwords\n",
    "from nltk.stem.porter import *\n",
    "from nltk.tokenize import word_tokenize\n",
    "import fasttext\n",
    "import fasttext.util\n",
    "from numpy.linalg import norm\n",
    "from tqdm import tqdm\n",
    "from scipy import stats"
   ]
  },
  {
   "cell_type": "code",
   "execution_count": 2,
   "metadata": {},
   "outputs": [],
   "source": [
    "input_data = []\n",
    "\n",
    "with open('./sts-2017-en-es/En_Es_STS/STS.input.en-es.train.txt', 'r') as inFile:\n",
    "    input_data = inFile.readlines()\n",
    "\n",
    "X = []\n",
    "for data in input_data:\n",
    "    X.append(data.split('\\t')[:2])\n",
    "input_data.clear()\n",
    "\n",
    "scores = []\n",
    "with open('./sts-2017-en-es/En_Es_STS/STS.input.en-es.train_scores.txt', 'r') as inFile:\n",
    "    # scores = inFile.readlines()\n",
    "    for line in inFile:\n",
    "        scores.append(int(line.strip()))"
   ]
  },
  {
   "cell_type": "code",
   "execution_count": 3,
   "metadata": {},
   "outputs": [
    {
     "name": "stderr",
     "output_type": "stream",
     "text": [
      "[nltk_data] Downloading package stopwords to\n",
      "[nltk_data]     /home2/arihanth.srikar/nltk_data...\n",
      "[nltk_data]   Package stopwords is already up-to-date!\n",
      "[nltk_data] Downloading package punkt to\n",
      "[nltk_data]     /home2/arihanth.srikar/nltk_data...\n",
      "[nltk_data]   Package punkt is already up-to-date!\n"
     ]
    }
   ],
   "source": [
    "nltk.download('stopwords')\n",
    "nltk.download('punkt')\n",
    "\n",
    "def sentence_preprocessor(data, language):\n",
    "    cleaned_data = []\n",
    "    stop_words = set(stopwords.words(language))\n",
    "    for x in data:\n",
    "        for c in string.punctuation:\n",
    "            if c in x:\n",
    "                x = x.replace(c,'')\n",
    "        tokenized_x = word_tokenize(x)\n",
    "        tokenized_x = [word for word in tokenized_x if word not in stop_words]\n",
    "\n",
    "        cleaned_data.append(tokenized_x)\n",
    "    return cleaned_data"
   ]
  },
  {
   "cell_type": "code",
   "execution_count": 4,
   "metadata": {},
   "outputs": [],
   "source": [
    "eng_data, esp_data = tuple(zip(*X))\n",
    "\n",
    "cleaned_eng = sentence_preprocessor(eng_data, 'english')\n",
    "cleaned_esp = sentence_preprocessor(esp_data, 'spanish')"
   ]
  },
  {
   "cell_type": "code",
   "execution_count": 5,
   "metadata": {},
   "outputs": [
    {
     "name": "stdout",
     "output_type": "stream",
     "text": [
      "41 40\n"
     ]
    }
   ],
   "source": [
    "MAX_ENG_SENT = 0\n",
    "for sent in cleaned_eng:\n",
    "    if MAX_ENG_SENT < len(sent):\n",
    "        MAX_ENG_SENT = len(sent)\n",
    "\n",
    "MAX_ESP_SENT = 0\n",
    "for sent in cleaned_esp:\n",
    "    if MAX_ESP_SENT < len(sent):\n",
    "        MAX_ESP_SENT = len(sent)\n",
    "\n",
    "print(MAX_ENG_SENT, MAX_ESP_SENT)\n",
    "\n",
    "custom_data = zip(cleaned_eng, cleaned_esp)\n",
    "custom_data = sorted(custom_data, key=lambda x: len(x[0]), reverse=False)\n",
    "cleaned_eng, cleaned_esp = list(zip(*custom_data))"
   ]
  },
  {
   "cell_type": "code",
   "execution_count": 6,
   "metadata": {},
   "outputs": [
    {
     "data": {
      "text/plain": [
       "1000"
      ]
     },
     "execution_count": 6,
     "metadata": {},
     "output_type": "execute_result"
    }
   ],
   "source": [
    "len(cleaned_eng)"
   ]
  },
  {
   "cell_type": "code",
   "execution_count": 7,
   "metadata": {},
   "outputs": [
    {
     "name": "stderr",
     "output_type": "stream",
     "text": [
      "Warning : `load_model` does not return WordVectorModel or SupervisedModel any more, but a `FastText` object which is very similar.\n"
     ]
    },
    {
     "data": {
      "text/plain": [
       "300"
      ]
     },
     "execution_count": 7,
     "metadata": {},
     "output_type": "execute_result"
    }
   ],
   "source": [
    "# fasttext.util.download_model('en', if_exists='ignore')  # English\n",
    "ft = fasttext.load_model('/scratch/arihanth.srikar/models/cc.en.300.bin')\n",
    "ft.get_dimension()"
   ]
  },
  {
   "cell_type": "code",
   "execution_count": 8,
   "metadata": {},
   "outputs": [
    {
     "name": "stderr",
     "output_type": "stream",
     "text": [
      "Warning : `load_model` does not return WordVectorModel or SupervisedModel any more, but a `FastText` object which is very similar.\n"
     ]
    },
    {
     "data": {
      "text/plain": [
       "300"
      ]
     },
     "execution_count": 8,
     "metadata": {},
     "output_type": "execute_result"
    }
   ],
   "source": [
    "ft2 = fasttext.load_model('/scratch/arihanth.srikar/models/cc.es.300.bin')\n",
    "ft2.get_dimension()"
   ]
  },
  {
   "cell_type": "code",
   "execution_count": 9,
   "metadata": {},
   "outputs": [],
   "source": [
    "# fasttext.util.reduce_model(ft, 100)\n",
    "# ft.get_dimension()"
   ]
  },
  {
   "cell_type": "code",
   "execution_count": 10,
   "metadata": {},
   "outputs": [],
   "source": [
    "# fasttext.util.reduce_model(ft2, 100)\n",
    "# ft2.get_dimension()"
   ]
  },
  {
   "cell_type": "code",
   "execution_count": 11,
   "metadata": {},
   "outputs": [
    {
     "name": "stderr",
     "output_type": "stream",
     "text": [
      "/home2/arihanth.srikar/anaconda3/envs/pytorch/lib/python3.9/site-packages/tqdm/auto.py:22: TqdmWarning: IProgress not found. Please update jupyter and ipywidgets. See https://ipywidgets.readthedocs.io/en/stable/user_install.html\n",
      "  from .autonotebook import tqdm as notebook_tqdm\n"
     ]
    }
   ],
   "source": [
    "import torch\n",
    "import torch.nn as nn\n",
    "import torch.nn.functional as F"
   ]
  },
  {
   "cell_type": "code",
   "execution_count": 12,
   "metadata": {},
   "outputs": [
    {
     "data": {
      "text/plain": [
       "'cuda'"
      ]
     },
     "execution_count": 12,
     "metadata": {},
     "output_type": "execute_result"
    }
   ],
   "source": [
    "device = \"cuda\" if torch.cuda.is_available() else \"cpu\"\n",
    "device"
   ]
  },
  {
   "cell_type": "code",
   "execution_count": 13,
   "metadata": {},
   "outputs": [
    {
     "name": "stderr",
     "output_type": "stream",
     "text": [
      "/tmp/ipykernel_1483/2642740922.py:3: UserWarning: Creating a tensor from a list of numpy.ndarrays is extremely slow. Please consider converting the list to a single numpy.ndarray with numpy.array() before converting to a tensor. (Triggered internally at  /opt/conda/conda-bld/pytorch_1646755849709/work/torch/csrc/utils/tensor_new.cpp:210.)\n",
      "  eng_vect = torch.cat([torch.tensor([ft.get_sentence_vector(word)]) for word in eng_sent], dim=0).unsqueeze(dim=1)\n"
     ]
    }
   ],
   "source": [
    "final_embeddings = []\n",
    "for (eng_sent, esp_sent) in X:\n",
    "    eng_vect = torch.cat([torch.tensor([ft.get_sentence_vector(word)]) for word in eng_sent], dim=0).unsqueeze(dim=1)\n",
    "    esp_vect = torch.cat([torch.tensor([ft2.get_sentence_vector(word)]) for word in esp_sent], dim=0).unsqueeze(dim=1)\n",
    "    final_embeddings.append((eng_vect, esp_vect))"
   ]
  },
  {
   "cell_type": "code",
   "execution_count": 14,
   "metadata": {},
   "outputs": [],
   "source": [
    "class Dataset(torch.utils.data.Dataset):\n",
    "\n",
    "    def __init__(self, sentences, scores):\n",
    "        self.labels = scores\n",
    "        self.sentences = sentences\n",
    "\n",
    "    def __len__(self):\n",
    "        return len(self.labels)\n",
    "\n",
    "    def get_batch_labels(self, idx):\n",
    "        return self.labels[idx]\n",
    "\n",
    "    def get_batch_embeddings(self, idx):\n",
    "        eng_sent, esp_sent = self.sentences[idx]\n",
    "        return eng_sent, esp_sent\n",
    "\n",
    "    def __getitem__(self, idx):\n",
    "\n",
    "        embeddings = self.get_batch_embeddings(idx)\n",
    "        label = self.get_batch_labels(idx)\n",
    "\n",
    "        return embeddings, torch.tensor(label)"
   ]
  },
  {
   "cell_type": "code",
   "execution_count": 15,
   "metadata": {},
   "outputs": [],
   "source": [
    "full_dataset = Dataset(final_embeddings, scores)"
   ]
  },
  {
   "cell_type": "code",
   "execution_count": 16,
   "metadata": {},
   "outputs": [],
   "source": [
    "class LSTM(nn.Module):\n",
    "\n",
    "    def __init__(self, embedding_dim=300, hidden_dim=512, output_size=300):\n",
    "        super(LSTM, self).__init__()\n",
    "        self.hidden_dim = hidden_dim\n",
    "        self.num_layers = 2\n",
    "\n",
    "        self.lstm1 = nn.LSTM(embedding_dim, hidden_dim, num_layers=self.num_layers, bidirectional=True)\n",
    "        self.lstm2 = nn.LSTM(embedding_dim, hidden_dim, num_layers=self.num_layers, bidirectional=True)\n",
    "\n",
    "    def forward(self, v1, v2):\n",
    "        _, (h, _) = self.lstm1(v1.view(v1.shape[0], 1, -1))\n",
    "        out1 = torch.mean(h.view(h.shape[0], -1), dim=0)\n",
    "        \n",
    "        _, (h, _) = self.lstm2(v2.view(v2.shape[0], 1, -1))\n",
    "        out2 = torch.mean(h.view(h.shape[0], -1), dim=0)\n",
    "        \n",
    "        return out1, out2"
   ]
  },
  {
   "cell_type": "code",
   "execution_count": 17,
   "metadata": {},
   "outputs": [],
   "source": [
    "model = LSTM(300, 512, 300).to(device)\n",
    "loss_function = F.mse_loss\n",
    "optimizer = torch.optim.AdamW(model.parameters(), lr=0.0001)"
   ]
  },
  {
   "cell_type": "code",
   "execution_count": 18,
   "metadata": {},
   "outputs": [],
   "source": [
    "train_size = int(0.8 * len(full_dataset))\n",
    "test_size = len(full_dataset) - train_size\n",
    "trainloader, testloader = torch.utils.data.random_split(full_dataset, [train_size, test_size])"
   ]
  },
  {
   "cell_type": "code",
   "execution_count": 19,
   "metadata": {},
   "outputs": [
    {
     "name": "stderr",
     "output_type": "stream",
     "text": [
      "100%|██████████| 800/800 [00:27<00:00, 29.19it/s]\n"
     ]
    },
    {
     "name": "stdout",
     "output_type": "stream",
     "text": [
      "0-Train\n",
      "Pearson: -1.6041250064503827\n",
      "Loss: 1.7300979354920536\n"
     ]
    },
    {
     "name": "stderr",
     "output_type": "stream",
     "text": [
      "100%|██████████| 200/200 [00:02<00:00, 71.98it/s]\n"
     ]
    },
    {
     "name": "stdout",
     "output_type": "stream",
     "text": [
      "0-Test\n",
      "Pearson: 9.049861987827622\n",
      "Loss 1.3731650733630523\n"
     ]
    },
    {
     "name": "stderr",
     "output_type": "stream",
     "text": [
      "100%|██████████| 800/800 [00:27<00:00, 29.21it/s]\n"
     ]
    },
    {
     "name": "stdout",
     "output_type": "stream",
     "text": [
      "1-Train\n",
      "Pearson: -0.8354525962123258\n",
      "Loss: 1.6150989110100642\n"
     ]
    },
    {
     "name": "stderr",
     "output_type": "stream",
     "text": [
      "100%|██████████| 200/200 [00:02<00:00, 72.59it/s]\n"
     ]
    },
    {
     "name": "stdout",
     "output_type": "stream",
     "text": [
      "1-Test\n",
      "Pearson: 9.055542332732502\n",
      "Loss 1.3619173192800371\n"
     ]
    },
    {
     "name": "stderr",
     "output_type": "stream",
     "text": [
      "100%|██████████| 800/800 [00:27<00:00, 29.02it/s]\n"
     ]
    },
    {
     "name": "stdout",
     "output_type": "stream",
     "text": [
      "2-Train\n",
      "Pearson: 3.5759542724025137\n",
      "Loss: 1.5882426767485232\n"
     ]
    },
    {
     "name": "stderr",
     "output_type": "stream",
     "text": [
      "100%|██████████| 200/200 [00:02<00:00, 71.27it/s]\n"
     ]
    },
    {
     "name": "stdout",
     "output_type": "stream",
     "text": [
      "2-Test\n",
      "Pearson: 8.027496633609116\n",
      "Loss 1.363239804833138\n"
     ]
    },
    {
     "name": "stderr",
     "output_type": "stream",
     "text": [
      "100%|█████████▉| 797/800 [00:27<00:00, 31.17it/s]"
     ]
    }
   ],
   "source": [
    "for epoch in range(15):\n",
    "\n",
    "    model.train()\n",
    "    pred, lbls = [], []\n",
    "    running_loss = 0.0\n",
    "    for (e1, e2), lbl in tqdm(trainloader):\n",
    "        model.zero_grad()\n",
    "\n",
    "        e1 = e1.to(device)\n",
    "        e2 = e2.to(device)\n",
    "        lbl = lbl.to(device)\n",
    "\n",
    "        v1, v2 = model(e1, e2)\n",
    "\n",
    "        cos = nn.CosineSimilarity(dim=0)\n",
    "        output = cos(v1, v2)*5\n",
    "\n",
    "        loss = loss_function(output.float(), lbl.float())\n",
    "        running_loss += loss.item()\n",
    "        loss.backward()\n",
    "        optimizer.step()\n",
    "        pred.append(output.float().item())\n",
    "        lbls.append(lbl.float().item())\n",
    "    print(f'{epoch}-Train')\n",
    "    print('Pearson:', stats.pearsonr(pred, lbls)[0]*100)\n",
    "    print('Loss:', running_loss/len(trainloader))\n",
    "\n",
    "    model.eval()\n",
    "    pred, lbls = [], []\n",
    "    with torch.no_grad():\n",
    "        running_loss = 0.0\n",
    "        for (e1, e2), lbl in tqdm(testloader):\n",
    "            e1 = e1.to(device)\n",
    "            e2 = e2.to(device)\n",
    "            lbl = lbl.to(device)\n",
    "\n",
    "            tag_scores_eng, tag_scores_esp = model(e1, e2)\n",
    "\n",
    "            cos = nn.CosineSimilarity(dim=0)\n",
    "            output = cos(tag_scores_eng, tag_scores_esp)*5\n",
    "\n",
    "            loss = loss_function(output.float(), lbl.float())\n",
    "            running_loss += loss.item()\n",
    "\n",
    "            pred.append(output.float().item())\n",
    "            lbls.append(lbl.float().item())\n",
    "        print(f'{epoch}-Test')\n",
    "        print('Pearson:', stats.pearsonr(pred, lbls)[0]*100)\n",
    "        print('Loss', running_loss/len(testloader))"
   ]
  },
  {
   "cell_type": "code",
   "execution_count": null,
   "metadata": {},
   "outputs": [],
   "source": [
    "torch.save(model, '/scratch/arihanth.srikar/model_saves/bilingual.pt')"
   ]
  }
 ],
 "metadata": {
  "interpreter": {
   "hash": "f54ec556731191ae34ffecbd12704bb8f2e6a5cabce98c16cdcccd50acdfe5bc"
  },
  "kernelspec": {
   "display_name": "Python 3.9.7 ('base')",
   "language": "python",
   "name": "python3"
  },
  "language_info": {
   "codemirror_mode": {
    "name": "ipython",
    "version": 3
   },
   "file_extension": ".py",
   "mimetype": "text/x-python",
   "name": "python",
   "nbconvert_exporter": "python",
   "pygments_lexer": "ipython3",
   "version": "3.9.12"
  },
  "orig_nbformat": 4
 },
 "nbformat": 4,
 "nbformat_minor": 2
}
